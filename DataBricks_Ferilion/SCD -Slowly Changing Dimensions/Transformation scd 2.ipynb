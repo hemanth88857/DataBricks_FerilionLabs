{
 "cells": [
  {
   "cell_type": "code",
   "execution_count": 0,
   "metadata": {
    "application/vnd.databricks.v1+cell": {
     "cellMetadata": {
      "byteLimit": 2048000,
      "rowLimit": 10000
     },
     "inputWidgets": {},
     "nuid": "c8df268c-cb1e-4427-9400-607e49790b61",
     "showTitle": false,
     "tableResultSettingsMap": {},
     "title": ""
    }
   },
   "outputs": [],
   "source": [
    "from pyspark.sql.functions import *\n",
    "from pyspark.sql.types import *"
   ]
  },
  {
   "cell_type": "code",
   "execution_count": 0,
   "metadata": {
    "application/vnd.databricks.v1+cell": {
     "cellMetadata": {
      "byteLimit": 2048000,
      "rowLimit": 10000
     },
     "inputWidgets": {},
     "nuid": "bc4ae10a-c9e0-450d-bbc1-f5c6c09487a9",
     "showTitle": false,
     "tableResultSettingsMap": {},
     "title": ""
    }
   },
   "outputs": [],
   "source": [
    "df_bronze = spark.read.table(\"workspace.hemanth_bronze.emp\")\n",
    "df_silver = spark.read.table(\"workspace.hemanth_silver.emp\")"
   ]
  },
  {
   "cell_type": "code",
   "execution_count": 0,
   "metadata": {
    "application/vnd.databricks.v1+cell": {
     "cellMetadata": {
      "byteLimit": 2048000,
      "rowLimit": 10000
     },
     "inputWidgets": {},
     "nuid": "06654478-648d-4895-80b0-af8f9d38e891",
     "showTitle": false,
     "tableResultSettingsMap": {},
     "title": ""
    }
   },
   "outputs": [],
   "source": [
    "df_bronze1  = df_bronze.withColumn(\"Valid_from\",current_timestamp()).withColumn(\"Valid_to\",lit(None).cast(\"timestamp\")).withColumn(\"Valid_Falg\",lit(\"Y\"))"
   ]
  },
  {
   "cell_type": "code",
   "execution_count": 0,
   "metadata": {
    "application/vnd.databricks.v1+cell": {
     "cellMetadata": {
      "byteLimit": 2048000,
      "rowLimit": 10000
     },
     "collapsed": true,
     "inputWidgets": {},
     "nuid": "7bb4d891-76d5-4329-8f2a-c9316c32720e",
     "showTitle": false,
     "tableResultSettingsMap": {},
     "title": ""
    }
   },
   "outputs": [],
   "source": [
    "df_bronze1.display()"
   ]
  },
  {
   "cell_type": "code",
   "execution_count": 0,
   "metadata": {
    "application/vnd.databricks.v1+cell": {
     "cellMetadata": {
      "byteLimit": 2048000,
      "rowLimit": 10000
     },
     "collapsed": true,
     "inputWidgets": {},
     "nuid": "c62165b7-8ac1-474e-b8fa-62d8808f1951",
     "showTitle": false,
     "tableResultSettingsMap": {},
     "title": ""
    }
   },
   "outputs": [],
   "source": [
    "df = df_bronze1.alias(\"bronze\").join(df_silver.alias(\"silver\"),df_bronze1.empno == df_silver.empno,\"left\").orderBy(\"bronze.empno\")\n",
    "df.display()"
   ]
  },
  {
   "cell_type": "code",
   "execution_count": 0,
   "metadata": {
    "application/vnd.databricks.v1+cell": {
     "cellMetadata": {
      "byteLimit": 2048000,
      "rowLimit": 10000
     },
     "collapsed": true,
     "inputWidgets": {},
     "nuid": "5ec3d297-37bd-418d-aedb-cd5eb9f24195",
     "showTitle": false,
     "tableResultSettingsMap": {},
     "title": ""
    }
   },
   "outputs": [],
   "source": [
    "\n",
    "query = f\"\"\"\n",
    "        select * from workspace.hemanth_bronze.emp where empno not in (select empno from workspace.hemanth_silver.emp)\n",
    "\"\"\"\n",
    "df_addnewrow = spark.sql(query)\n",
    "display(df_addnewrow)\n",
    "display(df_addnewrow.count())"
   ]
  },
  {
   "cell_type": "code",
   "execution_count": 0,
   "metadata": {
    "application/vnd.databricks.v1+cell": {
     "cellMetadata": {
      "byteLimit": 2048000,
      "rowLimit": 10000
     },
     "inputWidgets": {},
     "nuid": "ae3a701f-fa4e-4529-bb91-146ab525e89a",
     "showTitle": false,
     "tableResultSettingsMap": {},
     "title": ""
    }
   },
   "outputs": [],
   "source": [
    "if df_addnewrow.count() >= 1:\n",
    "        df = df_addnewrow.withColumn(\"Valid_from\",current_timestamp()).withColumn(\"Valid_to\",lit(None).cast(\"timestamp\")).withColumn(\"Valid_Falg\",lit(\"Y\"))\n",
    "        df.write.mode(\"append\").saveAsTable(\"workspace.hemanth_silver.emp\")\n",
    "else:\n",
    "     pass"
   ]
  },
  {
   "cell_type": "code",
   "execution_count": 0,
   "metadata": {
    "application/vnd.databricks.v1+cell": {
     "cellMetadata": {
      "byteLimit": 2048000,
      "implicitDf": true,
      "rowLimit": 10000
     },
     "collapsed": true,
     "inputWidgets": {},
     "nuid": "01723ed7-02d9-4b2e-b067-b0ea42eac007",
     "showTitle": false,
     "tableResultSettingsMap": {},
     "title": ""
    }
   },
   "outputs": [],
   "source": [
    "%sql\n",
    "select * from hemanth_silver.emp"
   ]
  },
  {
   "cell_type": "code",
   "execution_count": 0,
   "metadata": {
    "application/vnd.databricks.v1+cell": {
     "cellMetadata": {
      "byteLimit": 2048000,
      "rowLimit": 10000
     },
     "collapsed": true,
     "inputWidgets": {},
     "nuid": "78a389d6-c892-43f8-a47b-d3702cd210a2",
     "showTitle": false,
     "tableResultSettingsMap": {},
     "title": ""
    }
   },
   "outputs": [],
   "source": [
    "\n",
    "df1 = df_bronze1.alias(\"bronze\").join(\n",
    "    df_silver.alias(\"silver\"),\n",
    "    col(\"bronze.empno\") == col(\"silver.empno\"),\n",
    "    \"inner\"\n",
    ").filter(\n",
    "    ((col(\"bronze.Valid_Falg\") == \"Y\") & (col(\"silver.Valid_Falg\") != \"N\")) & (\n",
    "        (col(\"bronze.mgr\") != col(\"silver.mgr\")) |\n",
    "        (col(\"bronze.sal\") != col(\"silver.sal\")) |\n",
    "        (col(\"bronze.comm\") != col(\"silver.comm\")) |\n",
    "        (col(\"bronze.dept_id\") != col(\"silver.dept_id\"))\n",
    "    )\n",
    ")\n",
    "\n",
    "df1.display()"
   ]
  },
  {
   "cell_type": "code",
   "execution_count": 0,
   "metadata": {
    "application/vnd.databricks.v1+cell": {
     "cellMetadata": {
      "byteLimit": 2048000,
      "rowLimit": 10000
     },
     "inputWidgets": {},
     "nuid": "325f9a20-60d9-40ba-ad0a-114f7a9154ee",
     "showTitle": true,
     "tableResultSettingsMap": {},
     "title": "update & insert"
    }
   },
   "outputs": [],
   "source": [
    "\n",
    "if df1.count() >= 1:\n",
    "        df_CustomerId = df1.select(col(\"bronze.empno\").alias(\"empno\"))\n",
    "        empnos = [row.empno for row in df_CustomerId.select(\"empno\").distinct().collect()]\n",
    "        empnos_str = \",\".join(str(e) for e in empnos)\n",
    "\n",
    "        query = f\"\"\"\n",
    "         UPDATE workspace.hemanth_silver.emp\n",
    "         SET Valid_Falg = 'N',\n",
    "         Valid_to = current_timestamp()\n",
    "         WHERE empno in ({empnos_str})\n",
    "        \"\"\"\n",
    "\n",
    "        spark.sql(query)\n",
    "df_insert = df_bronze1.filter(df_bronze1.empno.isin(empnos))\n",
    "df_insert = df_bronze1.filter(df_bronze1.empno.isin(empnos))\n",
    "df_insert.write.mode(\"append\").saveAsTable(\"workspace.hemanth_silver.emp\")"
   ]
  },
  {
   "cell_type": "code",
   "execution_count": 0,
   "metadata": {
    "application/vnd.databricks.v1+cell": {
     "cellMetadata": {
      "byteLimit": 2048000,
      "rowLimit": 10000
     },
     "inputWidgets": {},
     "nuid": "1f03e4fa-8da9-4247-a659-b4aec5d18392",
     "showTitle": true,
     "tableResultSettingsMap": {},
     "title": "update for deleted record"
    }
   },
   "outputs": [],
   "source": [
    "query = f\"\"\"\n",
    "        select empno from workspace.hemanth_silver.emp where empno not in (select empno from workspace.hemanth_bronze.emp)\n",
    "\"\"\"\n",
    "df = spark.sql(query)\n",
    "\n",
    "if df.count() >= 1:\n",
    "\n",
    "    empnos = [row.empno for row in df.select(\"empno\").distinct().collect()]\n",
    "    empnos_str = \",\".join(str(e) for e in empnos)\n",
    "    query1 = f\"\"\"\n",
    "        update workspace.hemanth_silver.emp\n",
    "        SET Valid_Falg = 'N',\n",
    "        Valid_to = current_timestamp()\n",
    "        where empno not in ({empnos})\n",
    "\"\"\"\n",
    "    spark.sql(query1)\n",
    "        \n",
    "        "
   ]
  },
  {
   "cell_type": "code",
   "execution_count": 0,
   "metadata": {
    "application/vnd.databricks.v1+cell": {
     "cellMetadata": {
      "byteLimit": 2048000,
      "rowLimit": 10000
     },
     "collapsed": true,
     "inputWidgets": {},
     "nuid": "ff27a887-66b2-4180-bf0d-34fae1c8abfd",
     "showTitle": true,
     "tableResultSettingsMap": {},
     "title": "update"
    }
   },
   "outputs": [],
   "source": [
    "# df_CustomerId = df1.select(col(\"bronze.empno\").alias(\"empno\"))\n",
    "# empnos = [row.empno for row in df_CustomerId.select(\"empno\").distinct().collect()]\n",
    "# empnos_str = \",\".join(str(e) for e in empnos)\n",
    "\n",
    "# query = f\"\"\"\n",
    "#     UPDATE workspace.hemanth_silver.emp\n",
    "#     SET Valid_Falg = 'N',\n",
    "#     Valid_to = current_timestamp()\n",
    "#     WHERE empno in ({empnos_str})\n",
    "# \"\"\"\n",
    "\n",
    "# spark.sql(query)\n",
    "# df_insert = df_bronze1.filter(df_bronze1.empno.isin(empnos))\n",
    "# df_insert = df_bronze1.filter(df_bronze1.empno.isin(empnos))\n",
    "# df_insert.write.mode(\"append\").saveAsTable(\"workspace.hemanth_silver.emp\")\n",
    "\n"
   ]
  },
  {
   "cell_type": "code",
   "execution_count": 0,
   "metadata": {
    "application/vnd.databricks.v1+cell": {
     "cellMetadata": {
      "byteLimit": 2048000,
      "implicitDf": true,
      "rowLimit": 10000
     },
     "inputWidgets": {},
     "nuid": "709b1b08-ed08-4010-90d7-a7e325505311",
     "showTitle": false,
     "tableResultSettingsMap": {},
     "title": ""
    }
   },
   "outputs": [],
   "source": [
    "%sql\n",
    "select * from hemanth_silver.emp order by empno"
   ]
  },
  {
   "cell_type": "code",
   "execution_count": 0,
   "metadata": {
    "application/vnd.databricks.v1+cell": {
     "cellMetadata": {
      "byteLimit": 2048000,
      "rowLimit": 10000
     },
     "collapsed": true,
     "inputWidgets": {},
     "nuid": "2856ab9a-350a-4eca-96e1-1f29cebaec99",
     "showTitle": true,
     "tableResultSettingsMap": {},
     "title": "insert"
    }
   },
   "outputs": [],
   "source": [
    "\n",
    "# df_insert = df_bronze1.filter(df_bronze1.empno.isin(empnos))\n",
    "# df_insert.write.mode(\"append\").saveAsTable(\"workspace.hemanth_silver.emp\")"
   ]
  }
 ],
 "metadata": {
  "application/vnd.databricks.v1+notebook": {
   "computePreferences": null,
   "dashboards": [],
   "environmentMetadata": {
    "base_environment": "",
    "environment_version": "2"
   },
   "inputWidgetPreferences": null,
   "language": "python",
   "notebookMetadata": {
    "mostRecentlyExecutedCommandWithImplicitDF": {
     "commandId": 6844560191127032,
     "dataframes": [
      "_sqldf"
     ]
    },
    "pythonIndentUnit": 4
   },
   "notebookName": "Transformation scd 2",
   "widgets": {}
  },
  "language_info": {
   "name": "python"
  }
 },
 "nbformat": 4,
 "nbformat_minor": 0
}
