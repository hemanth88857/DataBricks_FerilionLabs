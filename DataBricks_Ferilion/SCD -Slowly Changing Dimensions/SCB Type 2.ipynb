{
 "cells": [
  {
   "cell_type": "code",
   "execution_count": 0,
   "metadata": {
    "application/vnd.databricks.v1+cell": {
     "cellMetadata": {
      "byteLimit": 2048000,
      "rowLimit": 10000
     },
     "inputWidgets": {},
     "nuid": "0b17eda8-b7df-4500-9f9f-46dd5b1b50e9",
     "showTitle": false,
     "tableResultSettingsMap": {},
     "title": ""
    }
   },
   "outputs": [],
   "source": [
    "from pyspark.sql.functions import *\n",
    "from pyspark.sql.types import *"
   ]
  },
  {
   "cell_type": "code",
   "execution_count": 0,
   "metadata": {
    "application/vnd.databricks.v1+cell": {
     "cellMetadata": {
      "byteLimit": 2048000,
      "rowLimit": 10000
     },
     "inputWidgets": {},
     "nuid": "5d9c4f0c-dc77-458a-8d0e-e319c4f44a3b",
     "showTitle": false,
     "tableResultSettingsMap": {},
     "title": ""
    }
   },
   "outputs": [],
   "source": [
    "Source_Data = [\n",
    "    (\"1\",\"Hemanth\",\"HYd\",\"506002\")\n",
    "        ,(\"2\",\"Raj\",\"BLR\",\"560001\")\n",
    "        ,(\"3\",\"Kumar\",\"MUM\",\"400001\")\n",
    "        ,(\"4\",\"Ravi\",\"BLR\",\"560001\")\n",
    "        ]\n",
    "\n",
    "DSchema  = StructType(\n",
    "    [StructField(\"Id\",StringType(),True),\n",
    "     StructField(\"Name\",StringType(),True),\n",
    "     StructField(\"City\",StringType(),True),\n",
    "     StructField(\"Pin\",StringType(),True)]\n",
    "    )\n",
    "                       "
   ]
  },
  {
   "cell_type": "code",
   "execution_count": 0,
   "metadata": {
    "application/vnd.databricks.v1+cell": {
     "cellMetadata": {
      "byteLimit": 2048000,
      "rowLimit": 10000
     },
     "inputWidgets": {},
     "nuid": "2ff11aaf-6760-405b-b496-1f5c2feea394",
     "showTitle": false,
     "tableResultSettingsMap": {},
     "title": ""
    }
   },
   "outputs": [],
   "source": [
    "df_Source = spark.createDataFrame(Source_Data,DSchema)\n",
    "df_Source.\n",
    "\n",
    "df_Source.display()"
   ]
  },
  {
   "cell_type": "code",
   "execution_count": 0,
   "metadata": {
    "application/vnd.databricks.v1+cell": {
     "cellMetadata": {
      "byteLimit": 2048000,
      "rowLimit": 10000
     },
     "inputWidgets": {},
     "nuid": "b713fed9-b26d-4eb9-8383-f4e69636c604",
     "showTitle": false,
     "tableResultSettingsMap": {},
     "title": ""
    }
   },
   "outputs": [],
   "source": [
    "df_target = df_Source.withColumn(\"Valid_date\",current_timestamp()).withColumn(\"Valid_to\",lit(None).cast(\"timestamp\")).withColumn(\"Vaild_Flag\",lit(\"Y\"))\n",
    "df_target.display()"
   ]
  },
  {
   "cell_type": "code",
   "execution_count": 0,
   "metadata": {
    "application/vnd.databricks.v1+cell": {
     "cellMetadata": {
      "byteLimit": 2048000,
      "rowLimit": 10000
     },
     "inputWidgets": {},
     "nuid": "819cff03-c806-4109-94ed-cfc674a4415e",
     "showTitle": false,
     "tableResultSettingsMap": {},
     "title": ""
    }
   },
   "outputs": [],
   "source": [
    "updated_Data = [\n",
    "    (\"1\",\"Hemanth\",\"wgl\",\"506001\")\n",
    "        ,(\"2\",\"Raj\",\"BLR\",\"560001\")\n",
    "        ,(\"3\",\"Kumar\",\"MUM\",\"400001\")\n",
    "        ,(\"4\",\"Ravi\",\"BLR\",\"560001\")\n",
    "        ,(\"5\",\"Raju\",\"Chn\",\"560008\")\n",
    "        ]\n",
    "\n",
    "df_update = spark.createDataFrame(updated_Data,DSchema)\n",
    "df_update.display()"
   ]
  },
  {
   "cell_type": "code",
   "execution_count": 0,
   "metadata": {
    "application/vnd.databricks.v1+cell": {
     "cellMetadata": {
      "byteLimit": 2048000,
      "implicitDf": true,
      "rowLimit": 10000
     },
     "inputWidgets": {},
     "nuid": "36b33ef3-6d80-4923-b5f9-46aabc3a7232",
     "showTitle": false,
     "tableResultSettingsMap": {},
     "title": ""
    }
   },
   "outputs": [],
   "source": [
    "\n",
    "\n",
    "df_target.write.format(\"delta\").saveAsTable(\"default.CustomerData\")\n",
    "\n",
    "# Drop Table if exists default.CustomerData\n"
   ]
  },
  {
   "cell_type": "code",
   "execution_count": 0,
   "metadata": {
    "application/vnd.databricks.v1+cell": {
     "cellMetadata": {
      "byteLimit": 2048000,
      "implicitDf": true,
      "rowLimit": 10000
     },
     "collapsed": true,
     "inputWidgets": {},
     "nuid": "78c43487-c7ec-454d-98ab-14a20bcfe3b3",
     "showTitle": false,
     "tableResultSettingsMap": {},
     "title": ""
    }
   },
   "outputs": [],
   "source": [
    "%sql\n",
    "select * from default.customerdata"
   ]
  },
  {
   "cell_type": "code",
   "execution_count": 0,
   "metadata": {
    "application/vnd.databricks.v1+cell": {
     "cellMetadata": {
      "byteLimit": 2048000,
      "rowLimit": 10000
     },
     "inputWidgets": {},
     "nuid": "9ca568fe-7e94-426e-b958-3ce910708ecb",
     "showTitle": false,
     "tableResultSettingsMap": {},
     "title": ""
    }
   },
   "outputs": [],
   "source": [
    "from delta.tables import DeltaTable\n"
   ]
  },
  {
   "cell_type": "code",
   "execution_count": 0,
   "metadata": {
    "application/vnd.databricks.v1+cell": {
     "cellMetadata": {
      "byteLimit": 2048000,
      "rowLimit": 10000
     },
     "inputWidgets": {},
     "nuid": "1a8fabed-0905-4263-a867-b3055ef38aa0",
     "showTitle": false,
     "tableResultSettingsMap": {},
     "title": ""
    }
   },
   "outputs": [],
   "source": [
    "target_table = DeltaTable.forName(spark, \"default.CustomerData\")"
   ]
  },
  {
   "cell_type": "code",
   "execution_count": 0,
   "metadata": {
    "application/vnd.databricks.v1+cell": {
     "cellMetadata": {
      "byteLimit": 2048000,
      "rowLimit": 10000
     },
     "inputWidgets": {},
     "nuid": "c55a4c67-88c7-4a07-aba6-fa67592ef18b",
     "showTitle": false,
     "tableResultSettingsMap": {},
     "title": ""
    }
   },
   "outputs": [],
   "source": [
    "# df_join = df_update.alias(\"Newdata\").join(df_target.alias(\"OldData\"),df_update.Id == df_target.Id,\"inner\")\\\n",
    "# .filter(df_target.Vaild_Flag == \"Y\")\\\n",
    "# .filter(df_update.Pin != df_target.Pin)\\\n",
    "# .filter(df_target.City != df_update.City)\n",
    "\n",
    "\n",
    "# df_join.display()\n",
    "\n",
    "\n",
    "\n",
    "df_join  = df_update.join(target_table.toDF() ,df_update.Id == target_table.toDF().Id,\"inner\")\\\n",
    ".filter(target_table.toDF().Vaild_Flag == \"Y\")\\\n",
    ".filter(df_update.Pin != target_table.toDF().Pin)\\\n",
    ".filter(target_table.toDF().City != df_update.City)\n",
    "df_join.display()"
   ]
  },
  {
   "cell_type": "code",
   "execution_count": 0,
   "metadata": {
    "application/vnd.databricks.v1+cell": {
     "cellMetadata": {
      "byteLimit": 2048000,
      "rowLimit": 10000
     },
     "inputWidgets": {},
     "nuid": "b9f9c51e-da21-4a64-8be1-a145112fe402",
     "showTitle": false,
     "tableResultSettingsMap": {},
     "title": ""
    }
   },
   "outputs": [],
   "source": [
    "df_customerId = df_join.select(df_update.Id)\n",
    "df_customerId.display()\n"
   ]
  },
  {
   "cell_type": "code",
   "execution_count": 0,
   "metadata": {
    "application/vnd.databricks.v1+cell": {
     "cellMetadata": {
      "byteLimit": 2048000,
      "rowLimit": 10000
     },
     "inputWidgets": {},
     "nuid": "ff375cda-d304-441c-868a-ead8ee80e4bb",
     "showTitle": false,
     "tableResultSettingsMap": {},
     "title": ""
    }
   },
   "outputs": [],
   "source": [
    "target_table.alias(\"t\").merge( \n",
    "                              source=df_customerId.alias(\"CusID\"),\n",
    "                            condition=\"t.Id = CusID.Id and t.Vaild_Flag = 'Y'\"\n",
    "    ).whenMatchedUpdate(set = \n",
    "                        {\n",
    "                            \"Vaild_Flag\" : lit(\"N\"),\n",
    "                            \"Valid_to\" : current_timestamp()\n",
    "                         }\n",
    "                        ).execute()"
   ]
  },
  {
   "cell_type": "code",
   "execution_count": 0,
   "metadata": {
    "application/vnd.databricks.v1+cell": {
     "cellMetadata": {},
     "inputWidgets": {},
     "nuid": "5b353042-8fba-41f7-be87-f048d5e08b86",
     "showTitle": false,
     "tableResultSettingsMap": {},
     "title": ""
    }
   },
   "outputs": [],
   "source": []
  },
  {
   "cell_type": "code",
   "execution_count": 0,
   "metadata": {
    "application/vnd.databricks.v1+cell": {
     "cellMetadata": {
      "byteLimit": 2048000,
      "implicitDf": true,
      "rowLimit": 10000
     },
     "inputWidgets": {},
     "nuid": "e5a04bd9-eb6e-4020-ac09-aad55544bf73",
     "showTitle": false,
     "tableResultSettingsMap": {},
     "title": ""
    }
   },
   "outputs": [],
   "source": [
    "%sql\n",
    "select *  from customerdata"
   ]
  },
  {
   "cell_type": "code",
   "execution_count": 0,
   "metadata": {
    "application/vnd.databricks.v1+cell": {
     "cellMetadata": {
      "byteLimit": 2048000,
      "rowLimit": 10000
     },
     "inputWidgets": {},
     "nuid": "56c5b63e-cdeb-4f37-9c3e-7d692edb6062",
     "showTitle": false,
     "tableResultSettingsMap": {},
     "title": ""
    }
   },
   "outputs": [],
   "source": [
    "source.display()"
   ]
  },
  {
   "cell_type": "code",
   "execution_count": 0,
   "metadata": {
    "application/vnd.databricks.v1+cell": {
     "cellMetadata": {
      "byteLimit": 2048000,
      "rowLimit": 10000
     },
     "inputWidgets": {},
     "nuid": "8be45106-1820-42d2-ba3a-7fbe06349fcb",
     "showTitle": false,
     "tableResultSettingsMap": {},
     "title": ""
    }
   },
   "outputs": [],
   "source": [
    "\n",
    "new_records = df_target.join(\n",
    "    df_customerId, \n",
    "    df_target.Id == df_customerId.Id, \n",
    "    \"left_semi\"\n",
    ").withColumn(\"Valid_date\", current_timestamp()\n",
    ").withColumn(\"Valid_to\", lit(None).cast(\"timestamp\")\n",
    ").withColumn(\"Valid_Flag\", lit(\"Y\"))\n",
    "\n",
    "new_records.display()\n"
   ]
  },
  {
   "cell_type": "code",
   "execution_count": 0,
   "metadata": {
    "application/vnd.databricks.v1+cell": {
     "cellMetadata": {
      "byteLimit": 2048000,
      "rowLimit": 10000
     },
     "inputWidgets": {},
     "nuid": "7dd5ebd3-6fbb-48e3-bd1d-3f64c0a931cc",
     "showTitle": false,
     "tableResultSettingsMap": {},
     "title": ""
    }
   },
   "outputs": [],
   "source": []
  }
 ],
 "metadata": {
  "application/vnd.databricks.v1+notebook": {
   "computePreferences": null,
   "dashboards": [],
   "environmentMetadata": {
    "base_environment": "",
    "environment_version": "2"
   },
   "inputWidgetPreferences": null,
   "language": "python",
   "notebookMetadata": {
    "mostRecentlyExecutedCommandWithImplicitDF": {
     "commandId": 1661925621060692,
     "dataframes": [
      "_sqldf"
     ]
    },
    "pythonIndentUnit": 4
   },
   "notebookName": "SCB Type 2",
   "widgets": {}
  },
  "language_info": {
   "name": "python"
  }
 },
 "nbformat": 4,
 "nbformat_minor": 0
}
